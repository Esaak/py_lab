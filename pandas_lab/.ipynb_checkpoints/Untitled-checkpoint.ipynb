{
 "cells": [
  {
   "cell_type": "code",
   "execution_count": 2,
   "metadata": {},
   "outputs": [],
   "source": [
    "import numpy as np\n",
    "import matplotlib.pyplot as plt\n",
    "import pandas as pd\n"
   ]
  },
  {
   "cell_type": "markdown",
   "metadata": {},
   "source": [
    "## Task1"
   ]
  },
  {
   "cell_type": "markdown",
   "metadata": {},
   "source": [
    "### Number №1"
   ]
  },
  {
   "cell_type": "code",
   "execution_count": 104,
   "metadata": {},
   "outputs": [
    {
     "name": "stdout",
     "output_type": "stream",
     "text": [
      "CONTRACTOR    Acme, Inc\n",
      "STATUS               OK\n",
      "SUM              100500\n",
      "Name: 5085, dtype: object\n",
      "\n",
      "CONTRACTOR    Umbrella, Inc\n",
      "STATUS                   OK\n",
      "SUM                    1000\n",
      "Name: 4451, dtype: object\n",
      "\n",
      "CONTRACTOR    Umbrella, Inc\n",
      "STATUS                   OK\n",
      "SUM                     999\n",
      "Name: 9266, dtype: object\n",
      "\n"
     ]
    }
   ],
   "source": [
    "data  = pd.read_csv(\"transactions.csv\")\n",
    "data = data.drop(columns =['Unnamed: 0'])\n",
    "sorted_data = data.sort_values(by = [\"STATUS\", \"SUM\"])\n",
    "count = 0\n",
    "# print three the largest payments\n",
    "for i in range(len(sorted_data)-1, 0, -1):\n",
    "    if(sorted_data.iloc[i, 1] == \"OK\"):\n",
    "        print(sorted_data.iloc[i, :]) \n",
    "        print()\n",
    "        count+=1\n",
    "        if count == 3:\n",
    "            break"
   ]
  },
  {
   "cell_type": "markdown",
   "metadata": {},
   "source": [
    "### Number №2"
   ]
  },
  {
   "cell_type": "code",
   "execution_count": 92,
   "metadata": {},
   "outputs": [
    {
     "name": "stdout",
     "output_type": "stream",
     "text": [
      "925719\n"
     ]
    },
    {
     "data": {
      "text/html": [
       "<div>\n",
       "<style scoped>\n",
       "    .dataframe tbody tr th:only-of-type {\n",
       "        vertical-align: middle;\n",
       "    }\n",
       "\n",
       "    .dataframe tbody tr th {\n",
       "        vertical-align: top;\n",
       "    }\n",
       "\n",
       "    .dataframe thead th {\n",
       "        text-align: right;\n",
       "    }\n",
       "</style>\n",
       "<table border=\"1\" class=\"dataframe\">\n",
       "  <thead>\n",
       "    <tr style=\"text-align: right;\">\n",
       "      <th></th>\n",
       "      <th></th>\n",
       "      <th>SUM</th>\n",
       "    </tr>\n",
       "    <tr>\n",
       "      <th>CONTRACTOR</th>\n",
       "      <th>STATUS</th>\n",
       "      <th></th>\n",
       "    </tr>\n",
       "  </thead>\n",
       "  <tbody>\n",
       "    <tr>\n",
       "      <th rowspan=\"3\" valign=\"top\">Acme, Inc</th>\n",
       "      <th>CANCELED</th>\n",
       "      <td>910835</td>\n",
       "    </tr>\n",
       "    <tr>\n",
       "      <th>OK</th>\n",
       "      <td>1012343</td>\n",
       "    </tr>\n",
       "    <tr>\n",
       "      <th>WAITING</th>\n",
       "      <td>906798</td>\n",
       "    </tr>\n",
       "    <tr>\n",
       "      <th rowspan=\"3\" valign=\"top\">Umbrella, Inc</th>\n",
       "      <th>CANCELED</th>\n",
       "      <td>942053</td>\n",
       "    </tr>\n",
       "    <tr>\n",
       "      <th>OK</th>\n",
       "      <td>925719</td>\n",
       "    </tr>\n",
       "    <tr>\n",
       "      <th>WAITING</th>\n",
       "      <td>920602</td>\n",
       "    </tr>\n",
       "  </tbody>\n",
       "</table>\n",
       "</div>"
      ],
      "text/plain": [
       "                            SUM\n",
       "CONTRACTOR    STATUS           \n",
       "Acme, Inc     CANCELED   910835\n",
       "              OK        1012343\n",
       "              WAITING    906798\n",
       "Umbrella, Inc CANCELED   942053\n",
       "              OK         925719\n",
       "              WAITING    920602"
      ]
     },
     "execution_count": 92,
     "metadata": {},
     "output_type": "execute_result"
    }
   ],
   "source": [
    "Umbrella_sum = 0\n",
    "for i in range(1, len(sorted_data)):\n",
    "    if(sorted_data.iloc[i, 0] ==\"Umbrella, Inc\" and sorted_data.iloc[i, 1] == \"OK\"):\n",
    "        Umbrella_sum+=sorted_data.iloc[i, 2]\n",
    "#print amount that pay for \"Umbrella, Inc\"\n",
    "print(Umbrella_sum)\n",
    "df_sum_of_contractor = data.groupby(by=[\"CONTRACTOR\", \"STATUS\"]).sum()\n",
    "df_sum_of_contractor"
   ]
  },
  {
   "cell_type": "markdown",
   "metadata": {},
   "source": [
    "## Task2"
   ]
  },
  {
   "cell_type": "code",
   "execution_count": 77,
   "metadata": {},
   "outputs": [
    {
     "name": "stdout",
     "output_type": "stream",
     "text": [
      "         PRICE  WEIGHT  FLIGHTS\n",
      "CARGO                          \n",
      "Jumbo    76795   18709     50.0\n",
      "Medium   36312    9507    100.0\n",
      "Nimble  752588    7545    500.0\n"
     ]
    },
    {
     "data": {
      "text/plain": [
       "array([<AxesSubplot:title={'center':'PRICE'}, xlabel='CARGO'>,\n",
       "       <AxesSubplot:title={'center':'WEIGHT'}, xlabel='CARGO'>,\n",
       "       <AxesSubplot:title={'center':'FLIGHTS'}, xlabel='CARGO'>],\n",
       "      dtype=object)"
      ]
     },
     "execution_count": 77,
     "metadata": {},
     "output_type": "execute_result"
    },
    {
     "data": {
      "text/plain": [
       "<Figure size 1440x1080 with 0 Axes>"
      ]
     },
     "metadata": {},
     "output_type": "display_data"
    },
    {
     "data": {
      "image/png": "[encoded data removed]",
      "text/plain": [
       "<Figure size 1440x1080 with 3 Axes>"
      ]
     },
     "metadata": {
      "needs_background": "light"
     },
     "output_type": "display_data"
    }
   ],
   "source": [
    "data2 = pd.read_csv(\"flights.csv\")\n",
    "data2 = data2.drop(columns =['Unnamed: 0'])\n",
    "data2[\"FLIGHTS\"] = np.ones(len(data2))\n",
    "data2_sum = data2.groupby(by = [\"CARGO\"]).sum()\n",
    "print(data2_sum)\n",
    "plt.figure(figsize=(20,15))\n",
    "data2_sum.plot.bar(subplots=True, rot = 0, figsize=(20,15), fontsize = 22)\n"
   ]
  },
  {
   "cell_type": "markdown",
   "metadata": {},
   "source": [
    "## Task3"
   ]
  },
  {
   "cell_type": "markdown",
   "metadata": {},
   "source": [
    "### Number №1"
   ]
  },
  {
   "cell_type": "code",
   "execution_count": 86,
   "metadata": {},
   "outputs": [
    {
     "data": {
      "text/plain": [
       "<AxesSubplot:xlabel='group_faculty'>"
      ]
     },
     "execution_count": 86,
     "metadata": {},
     "output_type": "execute_result"
    },
    {
     "data": {
      "image/png": "[encoded data removed]",
      "text/plain": [
       "<Figure size 864x504 with 1 Axes>"
      ]
     },
     "metadata": {
      "needs_background": "light"
     },
     "output_type": "display_data"
    }
   ],
   "source": [
    "data3_xlsx = pd.read_excel('./students/students_info.xlsx')\n",
    "data3_html_com = pd.read_html('./students/results_ejudge.html')\n",
    "data3_html_com[0] = data3_html_com[0].sort_values(by = [\"User\"])\n",
    "data3_html_com[0] = data3_html_com[0].rename(columns = {\"User\":\"login\"})\n",
    "data3_xlsx = pd.merge(data3_xlsx, data3_html_com[0],  on = \"login\")\n",
    "data3_group_faculty = data3_xlsx.groupby(by = [\"group_faculty\"])[\"Solved\"].sum()\n",
    "#histogram for group_faculty\n",
    "data3_group_faculty.plot.bar(rot = 0, figsize = (12,7), fontsize = 22)"
   ]
  },
  {
   "cell_type": "code",
   "execution_count": 87,
   "metadata": {},
   "outputs": [
    {
     "data": {
      "text/plain": [
       "<AxesSubplot:xlabel='group_out'>"
      ]
     },
     "execution_count": 87,
     "metadata": {},
     "output_type": "execute_result"
    },
    {
     "data": {
      "image/png": "[encoded data removed]",
      "text/plain": [
       "<Figure size 864x504 with 1 Axes>"
      ]
     },
     "metadata": {
      "needs_background": "light"
     },
     "output_type": "display_data"
    }
   ],
   "source": [
    "#histogram for group_out\n",
    "data3_group_out = data3_xlsx.groupby(by = [\"group_out\"])[\"Solved\"].sum()\n",
    "data3_group_out.plot.bar(rot = 0, figsize = (12,7), fontsize = 22)"
   ]
  },
  {
   "cell_type": "markdown",
   "metadata": {},
   "source": [
    "### Number №2"
   ]
  },
  {
   "cell_type": "code",
   "execution_count": 89,
   "metadata": {},
   "outputs": [
    {
     "data": {
      "text/html": [
       "<div>\n",
       "<style scoped>\n",
       "    .dataframe tbody tr th:only-of-type {\n",
       "        vertical-align: middle;\n",
       "    }\n",
       "\n",
       "    .dataframe tbody tr th {\n",
       "        vertical-align: top;\n",
       "    }\n",
       "\n",
       "    .dataframe thead th {\n",
       "        text-align: right;\n",
       "    }\n",
       "</style>\n",
       "<table border=\"1\" class=\"dataframe\">\n",
       "  <thead>\n",
       "    <tr style=\"text-align: right;\">\n",
       "      <th></th>\n",
       "      <th>login</th>\n",
       "      <th>group_faculty</th>\n",
       "      <th>group_out</th>\n",
       "      <th>Place</th>\n",
       "      <th>A</th>\n",
       "      <th>B</th>\n",
       "      <th>C</th>\n",
       "      <th>D</th>\n",
       "      <th>E</th>\n",
       "      <th>F</th>\n",
       "      <th>G</th>\n",
       "      <th>H</th>\n",
       "      <th>Solved</th>\n",
       "      <th>Score</th>\n",
       "    </tr>\n",
       "  </thead>\n",
       "  <tbody>\n",
       "    <tr>\n",
       "      <th>18</th>\n",
       "      <td>r0300202</td>\n",
       "      <td>2</td>\n",
       "      <td>33</td>\n",
       "      <td>6</td>\n",
       "      <td>10.0</td>\n",
       "      <td>9.0</td>\n",
       "      <td>20.0</td>\n",
       "      <td>20.0</td>\n",
       "      <td>20.0</td>\n",
       "      <td>30.0</td>\n",
       "      <td>9.0</td>\n",
       "      <td>10.0</td>\n",
       "      <td>6</td>\n",
       "      <td>128</td>\n",
       "    </tr>\n",
       "    <tr>\n",
       "      <th>21</th>\n",
       "      <td>r0300205</td>\n",
       "      <td>2</td>\n",
       "      <td>33</td>\n",
       "      <td>1</td>\n",
       "      <td>9.0</td>\n",
       "      <td>10.0</td>\n",
       "      <td>19.0</td>\n",
       "      <td>20.0</td>\n",
       "      <td>20.0</td>\n",
       "      <td>30.0</td>\n",
       "      <td>30.0</td>\n",
       "      <td>49.0</td>\n",
       "      <td>8</td>\n",
       "      <td>187</td>\n",
       "    </tr>\n",
       "    <tr>\n",
       "      <th>22</th>\n",
       "      <td>r0300206</td>\n",
       "      <td>2</td>\n",
       "      <td>33</td>\n",
       "      <td>2</td>\n",
       "      <td>10.0</td>\n",
       "      <td>3.0</td>\n",
       "      <td>20.0</td>\n",
       "      <td>20.0</td>\n",
       "      <td>20.0</td>\n",
       "      <td>30.0</td>\n",
       "      <td>30.0</td>\n",
       "      <td>49.0</td>\n",
       "      <td>7</td>\n",
       "      <td>182</td>\n",
       "    </tr>\n",
       "    <tr>\n",
       "      <th>25</th>\n",
       "      <td>r0300209</td>\n",
       "      <td>2</td>\n",
       "      <td>33</td>\n",
       "      <td>5</td>\n",
       "      <td>8.0</td>\n",
       "      <td>10.0</td>\n",
       "      <td>14.0</td>\n",
       "      <td>20.0</td>\n",
       "      <td>20.0</td>\n",
       "      <td>30.0</td>\n",
       "      <td>0.0</td>\n",
       "      <td>30.0</td>\n",
       "      <td>5</td>\n",
       "      <td>132</td>\n",
       "    </tr>\n",
       "    <tr>\n",
       "      <th>28</th>\n",
       "      <td>r0300212</td>\n",
       "      <td>2</td>\n",
       "      <td>36</td>\n",
       "      <td>20-21</td>\n",
       "      <td>10.0</td>\n",
       "      <td>3.0</td>\n",
       "      <td>20.0</td>\n",
       "      <td>NaN</td>\n",
       "      <td>20.0</td>\n",
       "      <td>NaN</td>\n",
       "      <td>NaN</td>\n",
       "      <td>20.0</td>\n",
       "      <td>3</td>\n",
       "      <td>73</td>\n",
       "    </tr>\n",
       "    <tr>\n",
       "      <th>33</th>\n",
       "      <td>r0300301</td>\n",
       "      <td>3</td>\n",
       "      <td>35</td>\n",
       "      <td>24</td>\n",
       "      <td>9.0</td>\n",
       "      <td>5.0</td>\n",
       "      <td>NaN</td>\n",
       "      <td>NaN</td>\n",
       "      <td>NaN</td>\n",
       "      <td>23.0</td>\n",
       "      <td>8.0</td>\n",
       "      <td>23.0</td>\n",
       "      <td>1</td>\n",
       "      <td>68</td>\n",
       "    </tr>\n",
       "    <tr>\n",
       "      <th>46</th>\n",
       "      <td>r0300314</td>\n",
       "      <td>3</td>\n",
       "      <td>33</td>\n",
       "      <td>4</td>\n",
       "      <td>9.0</td>\n",
       "      <td>9.0</td>\n",
       "      <td>20.0</td>\n",
       "      <td>20.0</td>\n",
       "      <td>20.0</td>\n",
       "      <td>30.0</td>\n",
       "      <td>9.0</td>\n",
       "      <td>20.0</td>\n",
       "      <td>6</td>\n",
       "      <td>137</td>\n",
       "    </tr>\n",
       "    <tr>\n",
       "      <th>61</th>\n",
       "      <td>r0300414</td>\n",
       "      <td>4</td>\n",
       "      <td>33</td>\n",
       "      <td>12</td>\n",
       "      <td>10.0</td>\n",
       "      <td>6.0</td>\n",
       "      <td>20.0</td>\n",
       "      <td>20.0</td>\n",
       "      <td>NaN</td>\n",
       "      <td>30.0</td>\n",
       "      <td>NaN</td>\n",
       "      <td>15.0</td>\n",
       "      <td>4</td>\n",
       "      <td>101</td>\n",
       "    </tr>\n",
       "    <tr>\n",
       "      <th>73</th>\n",
       "      <td>r0300511</td>\n",
       "      <td>5</td>\n",
       "      <td>35</td>\n",
       "      <td>18</td>\n",
       "      <td>9.0</td>\n",
       "      <td>9.0</td>\n",
       "      <td>NaN</td>\n",
       "      <td>NaN</td>\n",
       "      <td>NaN</td>\n",
       "      <td>30.0</td>\n",
       "      <td>NaN</td>\n",
       "      <td>29.0</td>\n",
       "      <td>3</td>\n",
       "      <td>77</td>\n",
       "    </tr>\n",
       "    <tr>\n",
       "      <th>76</th>\n",
       "      <td>r0300514</td>\n",
       "      <td>5</td>\n",
       "      <td>33</td>\n",
       "      <td>7</td>\n",
       "      <td>10.0</td>\n",
       "      <td>10.0</td>\n",
       "      <td>13.0</td>\n",
       "      <td>18.0</td>\n",
       "      <td>NaN</td>\n",
       "      <td>30.0</td>\n",
       "      <td>NaN</td>\n",
       "      <td>30.0</td>\n",
       "      <td>4</td>\n",
       "      <td>111</td>\n",
       "    </tr>\n",
       "    <tr>\n",
       "      <th>77</th>\n",
       "      <td>r0300515</td>\n",
       "      <td>5</td>\n",
       "      <td>35</td>\n",
       "      <td>26</td>\n",
       "      <td>10.0</td>\n",
       "      <td>NaN</td>\n",
       "      <td>NaN</td>\n",
       "      <td>NaN</td>\n",
       "      <td>NaN</td>\n",
       "      <td>30.0</td>\n",
       "      <td>NaN</td>\n",
       "      <td>25.0</td>\n",
       "      <td>2</td>\n",
       "      <td>65</td>\n",
       "    </tr>\n",
       "    <tr>\n",
       "      <th>70</th>\n",
       "      <td>r0300508</td>\n",
       "      <td>5</td>\n",
       "      <td>33</td>\n",
       "      <td>3</td>\n",
       "      <td>10.0</td>\n",
       "      <td>10.0</td>\n",
       "      <td>20.0</td>\n",
       "      <td>20.0</td>\n",
       "      <td>20.0</td>\n",
       "      <td>30.0</td>\n",
       "      <td>29.0</td>\n",
       "      <td>NaN</td>\n",
       "      <td>7</td>\n",
       "      <td>139</td>\n",
       "    </tr>\n",
       "  </tbody>\n",
       "</table>\n",
       "</div>"
      ],
      "text/plain": [
       "       login  group_faculty  group_out  Place     A     B     C     D     E  \\\n",
       "18  r0300202              2         33      6  10.0   9.0  20.0  20.0  20.0   \n",
       "21  r0300205              2         33      1   9.0  10.0  19.0  20.0  20.0   \n",
       "22  r0300206              2         33      2  10.0   3.0  20.0  20.0  20.0   \n",
       "25  r0300209              2         33      5   8.0  10.0  14.0  20.0  20.0   \n",
       "28  r0300212              2         36  20-21  10.0   3.0  20.0   NaN  20.0   \n",
       "33  r0300301              3         35     24   9.0   5.0   NaN   NaN   NaN   \n",
       "46  r0300314              3         33      4   9.0   9.0  20.0  20.0  20.0   \n",
       "61  r0300414              4         33     12  10.0   6.0  20.0  20.0   NaN   \n",
       "73  r0300511              5         35     18   9.0   9.0   NaN   NaN   NaN   \n",
       "76  r0300514              5         33      7  10.0  10.0  13.0  18.0   NaN   \n",
       "77  r0300515              5         35     26  10.0   NaN   NaN   NaN   NaN   \n",
       "70  r0300508              5         33      3  10.0  10.0  20.0  20.0  20.0   \n",
       "\n",
       "       F     G     H  Solved  Score  \n",
       "18  30.0   9.0  10.0       6    128  \n",
       "21  30.0  30.0  49.0       8    187  \n",
       "22  30.0  30.0  49.0       7    182  \n",
       "25  30.0   0.0  30.0       5    132  \n",
       "28   NaN   NaN  20.0       3     73  \n",
       "33  23.0   8.0  23.0       1     68  \n",
       "46  30.0   9.0  20.0       6    137  \n",
       "61  30.0   NaN  15.0       4    101  \n",
       "73  30.0   NaN  29.0       3     77  \n",
       "76  30.0   NaN  30.0       4    111  \n",
       "77  30.0   NaN  25.0       2     65  \n",
       "70  30.0  29.0   NaN       7    139  "
      ]
     },
     "execution_count": 89,
     "metadata": {},
     "output_type": "execute_result"
    }
   ],
   "source": [
    "data3_smart_student_H = data3_xlsx[data3_xlsx[\"H\"]>=10]\n",
    "data3_smart_student_G = data3_xlsx[data3_xlsx[\"G\"]>=10]\n",
    "data3_smart_student = pd.concat([data3_smart_student_H, data3_smart_student_G])\n",
    "data3_smart_student = data3_smart_student.drop_duplicates() \n",
    "data3_smart_student"
   ]
  }
 ],
 "metadata": {
  "kernelspec": {
   "display_name": "Python 3",
   "language": "python",
   "name": "python3"
  },
  "language_info": {
   "codemirror_mode": {
    "name": "ipython",
    "version": 3
   },
   "file_extension": ".py",
   "mimetype": "text/x-python",
   "name": "python",
   "nbconvert_exporter": "python",
   "pygments_lexer": "ipython3",
   "version": "3.7.3"
  }
 },
 "nbformat": 4,
 "nbformat_minor": 2
}
